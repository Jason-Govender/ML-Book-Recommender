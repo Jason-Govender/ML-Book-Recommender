{
 "cells": [
  {
   "cell_type": "code",
   "id": "initial_id",
   "metadata": {
    "collapsed": true,
    "ExecuteTime": {
     "end_time": "2025-07-29T12:22:15.442118Z",
     "start_time": "2025-07-29T12:22:07.749153Z"
    }
   },
   "source": [
    "import pandas as pd\n",
    "import numpy as np\n",
    "from sklearn.cluster import KMeans\n",
    "from sklearn.preprocessing import StandardScaler\n",
    "import json\n",
    "import joblib"
   ],
   "outputs": [],
   "execution_count": 1
  },
  {
   "metadata": {
    "ExecuteTime": {
     "end_time": "2025-07-27T18:06:19.069377Z",
     "start_time": "2025-07-27T18:06:18.301432Z"
    }
   },
   "cell_type": "code",
   "source": [
    "ratings = pd.read_csv(r\"C:\\Users\\jason\\OneDrive\\Documents\\Python QT\\ML_Model\\data\\ratings.csv\")\n",
    "books = pd.read_csv(r\"C:\\Users\\jason\\OneDrive\\Documents\\Python QT\\ML_Model\\data\\books.csv\")"
   ],
   "id": "a10baf7cc9f67e2f",
   "outputs": [],
   "execution_count": 4
  },
  {
   "metadata": {
    "ExecuteTime": {
     "end_time": "2025-07-27T18:07:41.212873Z",
     "start_time": "2025-07-27T18:07:41.209621Z"
    }
   },
   "cell_type": "code",
   "source": "user_item_matrix = ratings.pivot_table(index=\"user_id\", columns=\"book_id\", values=\"rating\").fillna(0)",
   "id": "cf578b7c75a6ba8a",
   "outputs": [
    {
     "data": {
      "text/plain": [
       "Index(['book_id', 'authors', 'title', 'average_rating', 'ratings_count'], dtype='object')"
      ]
     },
     "execution_count": 7,
     "metadata": {},
     "output_type": "execute_result"
    }
   ],
   "execution_count": 7
  },
  {
   "metadata": {},
   "cell_type": "markdown",
   "source": "Create the matrix for model exploration.",
   "id": "e02806023a740fc9"
  },
  {
   "metadata": {},
   "cell_type": "code",
   "outputs": [],
   "execution_count": null,
   "source": [
    "scaler = StandardScaler()\n",
    "scaled_matrix = scaler.fit_transform(user_item_matrix)"
   ],
   "id": "ae864730ce0f90ba"
  },
  {
   "metadata": {},
   "cell_type": "markdown",
   "source": "Normalizes the data.",
   "id": "4dedd8c1eee1dda6"
  },
  {
   "metadata": {},
   "cell_type": "code",
   "outputs": [],
   "execution_count": null,
   "source": [
    "\n",
    "k = 8\n",
    "model = KMeans(n_clusters=k, random_state=42),\n",
    "model.fit(scaled_matrix)"
   ],
   "id": "fa30dd8bd9ee5d4b"
  },
  {
   "metadata": {},
   "cell_type": "markdown",
   "source": "Trains model",
   "id": "b4a58347175e807d"
  },
  {
   "metadata": {},
   "cell_type": "code",
   "outputs": [],
   "execution_count": null,
   "source": [
    "user_clusters = pd.DataFrame({\n",
    "    \"user_id\": user_item_matrix.index,\n",
    "    \"cluster\": model.labels_\n",
    "})"
   ],
   "id": "42a6e4aa7113ef96"
  },
  {
   "metadata": {},
   "cell_type": "markdown",
   "source": "Attach a cluster to each user.",
   "id": "855a569523daadb6"
  },
  {
   "metadata": {},
   "cell_type": "code",
   "outputs": [],
   "execution_count": null,
   "source": "ratings_with_clusters = ratings.merge(user_clusters, on=\"user_id\")",
   "id": "90c4082a4be09d9d"
  },
  {
   "metadata": {},
   "cell_type": "markdown",
   "source": "Merge with ratings.",
   "id": "dec43921828ab79d"
  },
  {
   "metadata": {},
   "cell_type": "code",
   "outputs": [],
   "execution_count": null,
   "source": [
    "cluster_book_map = {}\n",
    "for cluster_id in range(k):\n",
    "    cluster_ratings = ratings_with_clusters[ratings_with_clusters[\"cluster\"] == cluster_id]\n",
    "    book_stats = (\n",
    "        cluster_ratings.groupby(\"book_id\")[\"rating\"]\n",
    "        .agg([\"mean\", \"count\"])\n",
    "        .reset_index()\n",
    "    )\n",
    "    top_books = book_stats[book_stats[\"mean\"] >= 4.5][\"book_id\"].tolist()\n",
    "    cluster_book_map[str(cluster_id)] = top_books"
   ],
   "id": "4a44d646abea9d77"
  },
  {
   "metadata": {},
   "cell_type": "markdown",
   "source": "Finds the best books within each cluster.",
   "id": "9f6fe23822a80766"
  },
  {
   "metadata": {},
   "cell_type": "code",
   "outputs": [],
   "execution_count": null,
   "source": "book_meta_dict = books.set_index(\"book_id\").to_dict(orient=\"index\")",
   "id": "8eb17ab52fbb21ea"
  },
  {
   "metadata": {},
   "cell_type": "markdown",
   "source": "Prepares books meta-data for Django.",
   "id": "5d64ea3801092d9a"
  },
  {
   "metadata": {},
   "cell_type": "code",
   "outputs": [],
   "execution_count": null,
   "source": [
    "\n",
    "with open(\"output/cluster_books.json\", \"w\") as f:\n",
    "    json.dump(cluster_book_map, f)\n",
    "with open(\"output/book_meta.json\", \"w\") as f:\n",
    "    json.dump(book_meta_dict, f)"
   ],
   "id": "23e045f4904b0aa0"
  },
  {
   "metadata": {},
   "cell_type": "markdown",
   "source": "Exports the best books and associated metadata.",
   "id": "730678eba2928ccc"
  }
 ],
 "metadata": {
  "kernelspec": {
   "display_name": "Python 3",
   "language": "python",
   "name": "python3"
  },
  "language_info": {
   "codemirror_mode": {
    "name": "ipython",
    "version": 2
   },
   "file_extension": ".py",
   "mimetype": "text/x-python",
   "name": "python",
   "nbconvert_exporter": "python",
   "pygments_lexer": "ipython2",
   "version": "2.7.6"
  }
 },
 "nbformat": 4,
 "nbformat_minor": 5
}
